{
 "cells": [
  {
   "cell_type": "code",
   "execution_count": 2,
   "id": "165527bc",
   "metadata": {},
   "outputs": [],
   "source": [
    "import pandas as pd\n",
    "import sys"
   ]
  },
  {
   "cell_type": "markdown",
   "id": "5668605e",
   "metadata": {},
   "source": [
    "First, we want to determine which species to use for this analysis: first, those that are present in the photosynthesis pathway dataset and in the chloroplast genome bank"
   ]
  },
  {
   "cell_type": "code",
   "execution_count": 24,
   "id": "e8479131",
   "metadata": {},
   "outputs": [
    {
     "name": "stdout",
     "output_type": "stream",
     "text": [
      "(52758, 5)\n"
     ]
    },
    {
     "name": "stderr",
     "output_type": "stream",
     "text": [
      "/tmp/ipykernel_2214686/208876120.py:5: DtypeWarning: Columns (15,16,18,19,21,26,27) have mixed types. Specify dtype option on import or set low_memory=False.\n",
      "  phData = pd.read_csv('data/photosynthesisPathways.txt', index_col=0, sep='\\t', encoding_errors='replace')\n"
     ]
    },
    {
     "name": "stdout",
     "output_type": "stream",
     "text": [
      "(2236552, 28)\n"
     ]
    }
   ],
   "source": [
    "plastids = pd.read_csv('data/taxonomy_info.csv', index_col=False)\n",
    "print(plastids.shape)\n",
    "\n",
    "#pathway data is a tsv\n",
    "phData = pd.read_csv('data/photosynthesisPathways.txt', index_col=0, sep='\\t', encoding_errors='replace')\n",
    "print(phData.shape)"
   ]
  },
  {
   "cell_type": "code",
   "execution_count": null,
   "id": "fe5f31a6",
   "metadata": {},
   "outputs": [],
   "source": [
    "#pathway data is a tsv\n",
    "phData = pd.read_csv('data/photosynthesisPathways.txt', index_col=0, sep='\\t', encoding_errors='replace')\n",
    "print(phData.shape)\n",
    "\n",
    "phData = phData[phData[\"DataName\"] == \"Plant photosynthetic pathway\"]\n",
    "phData[\"OrigValueStr\"] = phData[\"OrigValueStr\"].replace({\n",
    "    \"c3\": \"C3\", \"C3.\": \"C3\", \"c4\": \"C4\"\n",
    "})\n",
    "clean_phData = phData[phData[\"OrigValueStr\"].isin([\"C3\", \"C4\", \"CAM\"])].copy()\n",
    "\n",
    "conflicting = (\n",
    "    clean_phData.groupby(\"AccSpeciesName\")[\"OrigValueStr\"]\n",
    "    .nunique()\n",
    "    .reset_index()\n",
    "    .rename(columns={\"OrigValueStr\": \"n_unique\"})\n",
    ")\n",
    "conflicting = conflicting[conflicting[\"n_unique\"] > 1]\n",
    "\n",
    "clean_phData = clean_phData[~clean_phData[\"AccSpeciesName\"].isin(conflicting[\"AccSpeciesName\"])]\n",
    "\n",
    "toMerge = clean_phData[[\"AccSpeciesName\", \"OrigValueStr\"]].drop_duplicates()"
   ]
  },
  {
   "cell_type": "code",
   "execution_count": 26,
   "id": "af8a58e1",
   "metadata": {},
   "outputs": [
    {
     "name": "stdout",
     "output_type": "stream",
     "text": [
      "Index(['ID', 'Organism', 'Taxonomy', 'Year', 'SequencingTech', 'species_name'], dtype='object')\n",
      "(19602, 8)\n",
      "         AccSpeciesName OrigValueStr           ID              Organism  \\\n",
      "0        Holcus lanatus           C3  NC_036689.1        Holcus lanatus   \n",
      "1        Holcus lanatus           C3   KY432781.1        Holcus lanatus   \n",
      "2  Agrostis stolonifera           C3   OQ695464.1  Agrostis stolonifera   \n",
      "3  Agrostis stolonifera           C3  NC_008591.1  Agrostis stolonifera   \n",
      "4  Agrostis stolonifera           C3   EF115543.1  Agrostis stolonifera   \n",
      "\n",
      "                                            Taxonomy  Year SequencingTech  \\\n",
      "0  Eukaryota; Viridiplantae; Streptophyta; Embryo...  2023        Unknown   \n",
      "1  Eukaryota; Viridiplantae; Streptophyta; Embryo...  2017        Unknown   \n",
      "2  Eukaryota; Viridiplantae; Streptophyta; Embryo...  2023        Unknown   \n",
      "3  Eukaryota; Viridiplantae; Streptophyta; Embryo...  2023        Unknown   \n",
      "4  Eukaryota; Viridiplantae; Streptophyta; Embryo...  2016        Unknown   \n",
      "\n",
      "           species_name  \n",
      "0        Holcus lanatus  \n",
      "1        Holcus lanatus  \n",
      "2  Agrostis stolonifera  \n",
      "3  Agrostis stolonifera  \n",
      "4  Agrostis stolonifera  \n"
     ]
    }
   ],
   "source": [
    "#now, we will attempt to merge this with the plastid data\n",
    "\n",
    "#now, determine the species binomial from the plastid Organism column - take the first two words\n",
    "plastids[\"species_name\"] = plastids[\"Organism\"].apply(lambda x: \" \".join(x.split()[:2]) if isinstance(x, str) else x)\n",
    "print(plastids.columns)\n",
    "\n",
    "merged = pd.merge(toMerge, plastids, left_on=\"AccSpeciesName\", right_on=\"species_name\", how=\"inner\")\n",
    "\n",
    "#keep only species with a pathway annotated\n",
    "merged = merged[merged[\"OrigValueStr\"].notnull()]\n",
    "\n",
    "#how many species have data from the pathway?\n",
    "print(merged.shape)\n",
    "print(merged.head())"
   ]
  },
  {
   "cell_type": "code",
   "execution_count": null,
   "id": "77bc63e1",
   "metadata": {},
   "outputs": [
    {
     "name": "stdout",
     "output_type": "stream",
     "text": [
      "4691\n",
      "OrigValueStr\n",
      "C3     4371\n",
      "C4      264\n",
      "CAM      56\n",
      "Name: count, dtype: int64\n"
     ]
    }
   ],
   "source": [
    "#how many unique species are there, by AccSpeciesName?\n",
    "print(merged[\"AccSpeciesName\"].nunique())\n",
    "\n",
    "#keep only one record for unique species, and decide by the most recent record by Year - if there is a tie, \n",
    "merged = merged.sort_values(by=\"Year\", ascending=False).drop_duplicates(subset=[\"AccSpeciesName\"])\n",
    "\n",
    "#what is the distribution of photosynthesis types?\n",
    "print(merged[\"OrigValueStr\"].value_counts())\n",
    "\n",
    "#make a LUI list to use for the genome analysis - combine the binomial (species_name) and the ID, removing all non-alphanumeric characters\n",
    "merged[\"LUI\"] = merged[\"ID\"].str.replace(r'[^a-zA-Z0-9]', '', regex=True) + merged[\"species_name\"].str.replace(r'[^a-zA-Z0-9]', '', regex=True)\n",
    "#save the list of luis to a file called pathway_luis.txt"
   ]
  },
  {
   "cell_type": "code",
   "execution_count": 46,
   "id": "86eafd1e",
   "metadata": {},
   "outputs": [
    {
     "name": "stdout",
     "output_type": "stream",
     "text": [
      "0\n"
     ]
    }
   ],
   "source": [
    "#All of these should map to a chloroplast genome in data/genomes\n",
    "#double check each LUI is a file in data/genomes\n",
    "import os\n",
    "i=0\n",
    "for lui in merged[\"LUI\"]:\n",
    "    if not os.path.exists(f\"data/genomes/{lui}.fa\"):\n",
    "        i +=1\n",
    "        #drop that row from merged\n",
    "        merged = merged[merged[\"LUI\"] != lui]\n",
    "        #print(f\"Missing genome for {lui}\")\n",
    "print(i)\n",
    "merged[[\"LUI\"]].to_csv(\"data/pathway_luis.txt\", index=False, header=False)\n",
    "\n",
    "merged.to_csv(\"data/pathway_species.csv\", index=False)"
   ]
  },
  {
   "cell_type": "code",
   "execution_count": null,
   "id": "6b643482",
   "metadata": {},
   "outputs": [],
   "source": [
    "#./countMers.sh, let's look at 6mers"
   ]
  },
  {
   "cell_type": "code",
   "execution_count": 48,
   "id": "e56d2864",
   "metadata": {},
   "outputs": [
    {
     "name": "stdout",
     "output_type": "stream",
     "text": [
      "(54, 367945)\n",
      "kmer                                  AA  AAA  AAAA  AAAAA  AAAAAA  AAAAAAA  \\\n",
      "PV4402251Euphorbianeriifolia_k2    39527    0     0      0       0        0   \n",
      "PP2345351Lactucatatarica_k2        33764    0     0      0       0        0   \n",
      "PQ8691531Cercocarpusledifolius_k2  35898    0     0      0       0        0   \n",
      "PP6396921Heveabrasiliensis_k2      38099    0     0      0       0        0   \n",
      "PP2346001Hippurisvulgaris_k2       34216    0     0      0       0        0   \n",
      "\n",
      "kmer                               AAAAAAAA  AAAAAAAAA  AAAAAAAAAA  \\\n",
      "PV4402251Euphorbianeriifolia_k2           0          0           0   \n",
      "PP2345351Lactucatatarica_k2               0          0           0   \n",
      "PQ8691531Cercocarpusledifolius_k2         0          0           0   \n",
      "PP6396921Heveabrasiliensis_k2             0          0           0   \n",
      "PP2346001Hippurisvulgaris_k2              0          0           0   \n",
      "\n",
      "kmer                               AAAAAAAAAC  ...  TTTTACAAAA  TTTTAGAAAA  \\\n",
      "PV4402251Euphorbianeriifolia_k2             0  ...           0           0   \n",
      "PP2345351Lactucatatarica_k2                 0  ...           0           0   \n",
      "PQ8691531Cercocarpusledifolius_k2           0  ...           0           0   \n",
      "PP6396921Heveabrasiliensis_k2               0  ...           0           0   \n",
      "PP2346001Hippurisvulgaris_k2                0  ...           0           0   \n",
      "\n",
      "kmer                               TTTTATAAAA  TTTTCAAAA  TTTTCAAAAA  \\\n",
      "PV4402251Euphorbianeriifolia_k2             0          0           0   \n",
      "PP2345351Lactucatatarica_k2                 0          0           0   \n",
      "PQ8691531Cercocarpusledifolius_k2           0          0           0   \n",
      "PP6396921Heveabrasiliensis_k2               0          0           0   \n",
      "PP2346001Hippurisvulgaris_k2                0          0           0   \n",
      "\n",
      "kmer                               TTTTCCAAAA  TTTTCGAAAA  TTTTGAAAAA  \\\n",
      "PV4402251Euphorbianeriifolia_k2             0           0           0   \n",
      "PP2345351Lactucatatarica_k2                 0           0           0   \n",
      "PQ8691531Cercocarpusledifolius_k2           0           0           0   \n",
      "PP6396921Heveabrasiliensis_k2               0           0           0   \n",
      "PP2346001Hippurisvulgaris_k2                0           0           0   \n",
      "\n",
      "kmer                               TTTTGCAAAA  TTTTTAAAAA  \n",
      "PV4402251Euphorbianeriifolia_k2             0           0  \n",
      "PP2345351Lactucatatarica_k2                 0           0  \n",
      "PQ8691531Cercocarpusledifolius_k2           0           0  \n",
      "PP6396921Heveabrasiliensis_k2               0           0  \n",
      "PP2346001Hippurisvulgaris_k2                0           0  \n",
      "\n",
      "[5 rows x 367945 columns]\n"
     ]
    }
   ],
   "source": [
    "import pandas as pd\n",
    "import glob\n",
    "import os\n",
    "import re\n",
    "\n",
    "indir = \"jellyfish_output\"\n",
    "files = glob.glob(os.path.join(indir, \"k*/**/*_counts.tsv\"), recursive=True)\n",
    "\n",
    "dfs = []\n",
    "\n",
    "for f in files:\n",
    "    # Extract LUI and k-mer size from the path\n",
    "    match = re.search(r\"k(\\d+)/(.+?)_counts\\.tsv\", f)\n",
    "    if not match:\n",
    "        continue\n",
    "    ksize, genome = match.groups()\n",
    "    genome_label = f\"{genome}_k{ksize}\"\n",
    "\n",
    "    # Read and rename column with genome and k info\n",
    "    df = pd.read_csv(f, sep=r\"\\s+\", header=None, names=[\"kmer\", genome_label])\n",
    "    dfs.append(df.set_index(\"kmer\"))\n",
    "\n",
    "# Combine and fill missing values with 0\n",
    "kmer_matrix = pd.concat(dfs, axis=1).fillna(0).astype(int).sort_index()\n",
    "\n",
    "# Transpose so genomes are rows, kmers are columns\n",
    "kmer_matrix = kmer_matrix.T\n",
    "\n",
    "# Save final matrix\n",
    "kmer_matrix.to_csv(\"data/kmer_matrix.tsv\", sep=\"\\t\")\n",
    "\n",
    "print(kmer_matrix.shape)\n",
    "print(kmer_matrix.head())\n"
   ]
  }
 ],
 "metadata": {
  "kernelspec": {
   "display_name": "default",
   "language": "python",
   "name": "python3"
  },
  "language_info": {
   "codemirror_mode": {
    "name": "ipython",
    "version": 3
   },
   "file_extension": ".py",
   "mimetype": "text/x-python",
   "name": "python",
   "nbconvert_exporter": "python",
   "pygments_lexer": "ipython3",
   "version": "3.13.5"
  }
 },
 "nbformat": 4,
 "nbformat_minor": 5
}
