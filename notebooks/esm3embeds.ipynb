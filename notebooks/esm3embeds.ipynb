{
 "cells": [
  {
   "cell_type": "markdown",
   "id": "2d310673",
   "metadata": {},
   "source": [
    "Here, my goal is to fit the model \n",
    "\n",
    "temp ~ P_embeds \n",
    "\n",
    "I will prepare P_embeds a bit like an alignment supermatrix; for a gene, rbcL, I will take all the AA sequences, collect the embeddings, which will be of dimension embed_dim,L+2, and get the embedding_dim mean, so that I have n_sample mean embedding vectors of length L + 2 "
   ]
  }
 ],
 "metadata": {
  "language_info": {
   "name": "python"
  }
 },
 "nbformat": 4,
 "nbformat_minor": 5
}
