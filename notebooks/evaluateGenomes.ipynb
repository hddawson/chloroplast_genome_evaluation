{
 "cells": [
  {
   "cell_type": "code",
   "execution_count": 30,
   "id": "8876b045",
   "metadata": {},
   "outputs": [],
   "source": [
    "import pandas as pd\n",
    "import matplotlib.pyplot as plt\n",
    "import seaborn as sns\n",
    "import sys\n",
    "import os\n",
    "#import biopython and seqIO\n",
    "from Bio import SeqIO\n",
    "import re\n",
    "from tqdm import tqdm\n",
    "\n",
    "import warnings\n",
    "from Bio import BiopythonParserWarning\n",
    "\n",
    "# Suppress only BiopythonParserWarning\n",
    "warnings.simplefilter(\"ignore\", BiopythonParserWarning)\n"
   ]
  },
  {
   "cell_type": "code",
   "execution_count": 2,
   "id": "880dbae1",
   "metadata": {},
   "outputs": [],
   "source": [
    "from Bio import SeqIO\n",
    "\n",
    "def get_gene_count_from_gbf(gbf_file):\n",
    "    \"\"\"\n",
    "    Count the number of gene features in a GenBank file.\n",
    "\n",
    "    Parameters:\n",
    "        gbf_file (str): Path to the GenBank file.\n",
    "\n",
    "    Returns:\n",
    "        int: Number of 'gene' features in the GenBank record(s).\n",
    "    \"\"\"\n",
    "    return sum(\n",
    "        1\n",
    "        for record in SeqIO.parse(gbf_file, \"genbank\")\n",
    "        for feature in record.features\n",
    "        if feature.type == \"gene\"\n",
    "    )\n"
   ]
  },
  {
   "cell_type": "code",
   "execution_count": 3,
   "id": "0dc515a4",
   "metadata": {},
   "outputs": [
    {
     "name": "stdout",
     "output_type": "stream",
     "text": [
      "Found 50348 GenBank files in /workdir/hdd29/chloroplast_genome_evaluation/data/gbfs\n"
     ]
    }
   ],
   "source": [
    "import os\n",
    "import pandas as pd\n",
    "\n",
    "# Define source and output directories\n",
    "gbfs_dir = \"/workdir/hdd29/chloroplast_genome_evaluation/data/gbfs\"\n",
    "output_dir = \"/workdir/hdd29/chloroplast_genome_evaluation/data/gbfs_fixed\"\n",
    "os.makedirs(output_dir, exist_ok=True)\n",
    "\n",
    "# Process each file\n",
    "results = []\n",
    "gbf_files = [f for f in os.listdir(gbfs_dir)]\n",
    "print(f\"Found {len(gbf_files)} GenBank files in {gbfs_dir}\")\n",
    "\n",
    "for f in gbf_files[1:10]:\n",
    "    gbf_path = os.path.join(gbfs_dir, f)\n",
    "    try:\n",
    "        gene_count = get_gene_count_from_gbf(gbf_path)\n",
    "        results.append({\"file\": f, \"gene_count\": gene_count})\n",
    "        #print(f\"Processed {f}: {gene_count} genes found.\")\n",
    "    except Exception as e:\n",
    "        print(f\"Error processing {f}: {e}\")"
   ]
  },
  {
   "cell_type": "code",
   "execution_count": 4,
   "id": "b52e6ebb",
   "metadata": {},
   "outputs": [
    {
     "name": "stdout",
     "output_type": "stream",
     "text": [
      "Found 50348 GenBank files in /workdir/hdd29/chloroplast_genome_evaluation/data/gbfs\n"
     ]
    },
    {
     "name": "stderr",
     "output_type": "stream",
     "text": [
      "100%|██████████| 50348/50348 [05:38<00:00, 148.52it/s]"
     ]
    },
    {
     "name": "stdout",
     "output_type": "stream",
     "text": [
      "\n",
      "Gene counts summary:\n",
      "                                            file  gene_count\n",
      "0          NC0081151Eucalyptusglobulus.gbf.fixed         126\n",
      "1            NC0009251Porphyrapurpurea.gbf.fixed          49\n",
      "2      NC0081161Staurastrumpunctulatum.gbf.fixed          62\n",
      "3             NC0009261Guillardiatheta.gbf.fixed          41\n",
      "4              NC0071441Cucumissativus.gbf.fixed         123\n",
      "...                                          ...         ...\n",
      "50343         OR4002481Amorphophalluskrausei.gbf         125\n",
      "50344               PQ8496031Rhopalocnemissp.gbf           0\n",
      "50345          OR4020971Polygonatumkingianum.gbf         128\n",
      "50346                                update1.gbf          84\n",
      "50347                 OR4157021Deutziahamata.gbf         129\n",
      "\n",
      "[50348 rows x 2 columns]\n"
     ]
    },
    {
     "name": "stderr",
     "output_type": "stream",
     "text": [
      "\n"
     ]
    }
   ],
   "source": [
    "import os\n",
    "import pandas as pd\n",
    "from Bio import SeqIO  # Ensure Biopython is imported\n",
    "\n",
    "# Define directories\n",
    "gbfs_dir = \"/workdir/hdd29/chloroplast_genome_evaluation/data/gbfs\"\n",
    "output_dir = \"/workdir/hdd29/chloroplast_genome_evaluation/data/gbfs_fixed\"\n",
    "os.makedirs(output_dir, exist_ok=True)\n",
    "\n",
    "# Function to count gene features using Biopython\n",
    "def get_gene_count_from_gbf(gbf_file):\n",
    "    return sum(\n",
    "        1 for record in SeqIO.parse(gbf_file, \"genbank\")\n",
    "        for feature in record.features\n",
    "        if feature.type == \"gene\"\n",
    "    )\n",
    "\n",
    "def get_gene_names_from_gbf(gbf_file):\n",
    "    \"\"\"\n",
    "    Count the number of gene features in a GenBank file.\n",
    "\n",
    "    Parameters:\n",
    "        gbf_file (str): Path to the GenBank file.\n",
    "\n",
    "    Returns:\n",
    "        list (str): List of gene names.\n",
    "    \"\"\"\n",
    "    genes = []\n",
    "\n",
    "    for record in SeqIO.parse(gbf_file, \"genbank\"):\n",
    "        for feature in record.features:\n",
    "            if feature.type == \"gene\":\n",
    "                genes += [feature.qualifiers.get(\"gene\", [\"\"])[0]]\n",
    "\n",
    "    return genes\n",
    "\n",
    "\n",
    "# List all files in the directory\n",
    "gbf_files = [f for f in os.listdir(gbfs_dir)]\n",
    "print(f\"Found {len(gbf_files)} GenBank files in {gbfs_dir}\")\n",
    "\n",
    "# Process a subset of files\n",
    "results = []\n",
    "for f in tqdm(gbf_files):\n",
    "    gbf_path = os.path.join(gbfs_dir, f)\n",
    "    try:\n",
    "        gene_count = get_gene_count_from_gbf(gbf_path)\n",
    "        results.append({\"file\": f, \"gene_count\": gene_count})\n",
    "        #print(f\"Processed {f}: {gene_count} genes found.\")\n",
    "    except Exception as e:\n",
    "        print(f\"Error processing {f}: {e}\")\n",
    "\n",
    "# Build and display DataFrame\n",
    "df = pd.DataFrame(results)\n",
    "print(\"\\nGene counts summary:\")\n",
    "print(df)\n",
    "\n",
    "# Optional: Save to CSV\n",
    "# df.to_csv(\"gene_counts_subset.csv\", index=False)\n"
   ]
  },
  {
   "cell_type": "code",
   "execution_count": 6,
   "id": "3b94b00a",
   "metadata": {},
   "outputs": [
    {
     "data": {
      "image/png": "[encoded data removed]",
      "text/plain": [
       "<Figure size 800x600 with 1 Axes>"
      ]
     },
     "metadata": {},
     "output_type": "display_data"
    }
   ],
   "source": [
    "#make a histogram of gene count\n",
    "import matplotlib.pyplot as plt\n",
    "\n",
    "# Make a histogram of gene counts\n",
    "plt.figure(figsize=(8, 6))\n",
    "plt.hist(df[\"gene_count\"], bins=30, edgecolor='black')\n",
    "plt.title(\"Distribution of Gene Counts per GenBank File\")\n",
    "plt.xlabel(\"Gene Count\")\n",
    "plt.ylabel(\"Number of Genomes\")\n",
    "plt.grid(True)\n",
    "plt.tight_layout()\n",
    "plt.show()\n"
   ]
  },
  {
   "cell_type": "code",
   "execution_count": 16,
   "id": "2c574430",
   "metadata": {},
   "outputs": [
    {
     "name": "stdout",
     "output_type": "stream",
     "text": [
      "                                        file  gene_count  ambiguous_bases\n",
      "0      NC0081151Eucalyptusglobulus.gbf.fixed         126                0\n",
      "1        NC0009251Porphyrapurpurea.gbf.fixed          49                0\n",
      "2  NC0081161Staurastrumpunctulatum.gbf.fixed          62                0\n",
      "3         NC0009261Guillardiatheta.gbf.fixed          41                0\n",
      "4          NC0071441Cucumissativus.gbf.fixed         123                0\n"
     ]
    },
    {
     "name": "stderr",
     "output_type": "stream",
     "text": [
      "  0%|          | 64/50348 [00:00<05:03, 165.91it/s]"
     ]
    },
    {
     "name": "stdout",
     "output_type": "stream",
     "text": [
      "Error processing file NC0050872Physcomitrellapatens.gbf.fixed: [Errno 2] No such file or directory: '/workdir/hdd29/theRefseqening/theRefseqening/data/genomes/NC0050872Physcomitrellapatens.fa'\n"
     ]
    },
    {
     "name": "stderr",
     "output_type": "stream",
     "text": [
      " 26%|██▌       | 13028/50348 [01:13<02:56, 212.04it/s]"
     ]
    },
    {
     "name": "stdout",
     "output_type": "stream",
     "text": [
      "Error processing file 20170403_CHM.gbf: [Errno 2] No such file or directory: '/workdir/hdd29/theRefseqening/theRefseqening/data/genomes/20170403_CHM.fa'\n"
     ]
    },
    {
     "name": "stderr",
     "output_type": "stream",
     "text": [
      " 26%|██▌       | 13072/50348 [01:14<02:57, 209.61it/s]"
     ]
    },
    {
     "name": "stdout",
     "output_type": "stream",
     "text": [
      "Error processing file 1.gbf: [Errno 2] No such file or directory: '/workdir/hdd29/theRefseqening/theRefseqening/data/genomes/1.fa'\n"
     ]
    },
    {
     "name": "stderr",
     "output_type": "stream",
     "text": [
      " 26%|██▋       | 13288/50348 [01:15<03:47, 162.72it/s]"
     ]
    },
    {
     "name": "stdout",
     "output_type": "stream",
     "text": [
      "Error processing file ExampleFASTA.gbf: [Errno 2] No such file or directory: '/workdir/hdd29/theRefseqening/theRefseqening/data/genomes/ExampleFASTA.fa'\n"
     ]
    },
    {
     "name": "stderr",
     "output_type": "stream",
     "text": [
      " 84%|████████▍ | 42379/50348 [03:35<00:37, 212.85it/s]"
     ]
    },
    {
     "name": "stdout",
     "output_type": "stream",
     "text": [
      "Error processing file NC_000932.gbf: [Errno 2] No such file or directory: '/workdir/hdd29/theRefseqening/theRefseqening/data/genomes/NC_000932.fa'\n"
     ]
    },
    {
     "name": "stderr",
     "output_type": "stream",
     "text": [
      "100%|██████████| 50348/50348 [04:16<00:00, 196.33it/s]"
     ]
    },
    {
     "name": "stdout",
     "output_type": "stream",
     "text": [
      "Error processing file P12345.gbf: [Errno 2] No such file or directory: '/workdir/hdd29/theRefseqening/theRefseqening/data/genomes/P12345.fa'\n",
      "Error processing file sample.gbf: [Errno 2] No such file or directory: '/workdir/hdd29/theRefseqening/theRefseqening/data/genomes/sample.fa'\n",
      "Error processing file update.gbf: [Errno 2] No such file or directory: '/workdir/hdd29/theRefseqening/theRefseqening/data/genomes/update.fa'\n",
      "Error processing file update1.gbf: [Errno 2] No such file or directory: '/workdir/hdd29/theRefseqening/theRefseqening/data/genomes/update1.fa'\n",
      "                                        file  gene_count  ambiguous_bases\n",
      "0      NC0081151Eucalyptusglobulus.gbf.fixed         126                0\n",
      "1        NC0009251Porphyrapurpurea.gbf.fixed          49                0\n",
      "2  NC0081161Staurastrumpunctulatum.gbf.fixed          62                0\n",
      "3         NC0009261Guillardiatheta.gbf.fixed          41                0\n",
      "4          NC0071441Cucumissativus.gbf.fixed         123                0\n"
     ]
    },
    {
     "name": "stderr",
     "output_type": "stream",
     "text": [
      "\n"
     ]
    }
   ],
   "source": [
    "print(df.head())\n",
    "genomes_dir = \"/workdir/hdd29/theRefseqening/theRefseqening/data/genomes\"\n",
    "\n",
    "def count_ambiguous_bases(seq_record):\n",
    "    \"\"\"\n",
    "    Count ambiguous bases (N's) in a sequence record.\n",
    "    \n",
    "    Parameters:\n",
    "        seq_record (SeqRecord): A Biopython SeqRecord object.\n",
    "        \n",
    "    Returns:\n",
    "        int: Number of ambiguous bases in the sequence.\n",
    "    \"\"\"\n",
    "    return seq_record.seq.count('N')\n",
    "\n",
    "df['ambiguous_bases'] = 0  # Initialize the column\n",
    "\n",
    "for f in tqdm(df['file']):\n",
    "    try: \n",
    "        # Skip files that are not GenBank files\n",
    "        gbf_path = os.path.join(gbfs_dir, f)\n",
    "        basename = os.path.splitext(os.path.basename(f))[0]\n",
    "        if (basename.endswith(\".gbf\")):\n",
    "            basename = basename[:-4]\n",
    "        genome_path = os.path.join(genomes_dir, basename+\".fa\")\n",
    "\n",
    "        Ns= count_ambiguous_bases(SeqIO.read(genome_path, \"fasta\"))\n",
    "        df.loc[df['file'] == f, 'ambiguous_bases'] = Ns\n",
    "    except Exception as e:\n",
    "        print(f\"Error processing file {f}: {e}\")\n",
    "        continue\n",
    "\n",
    "print(df.head())\n"
   ]
  },
  {
   "cell_type": "code",
   "execution_count": 22,
   "id": "d2174f74",
   "metadata": {},
   "outputs": [
    {
     "data": {
      "image/png": "[encoded data removed]",
      "text/plain": [
       "<Figure size 800x600 with 1 Axes>"
      ]
     },
     "metadata": {},
     "output_type": "display_data"
    },
    {
     "name": "stdout",
     "output_type": "stream",
     "text": [
      "number genomes w at least 1 ambiguous base: 3075\n"
     ]
    }
   ],
   "source": [
    "# Make a histogram of gene counts\n",
    "plt.figure(figsize=(8, 6))\n",
    "plt.hist(df[\"ambiguous_bases\"], bins=30, edgecolor='black')\n",
    "plt.title(\"Distribution of ambiguous_bases per GenBank File\")\n",
    "plt.xlabel(\"ambiguous_bases\")\n",
    "plt.ylabel(\"Number of Genomes\")\n",
    "plt.grid(True)\n",
    "plt.tight_layout()\n",
    "plt.show()\n",
    "\n",
    "print(\"number genomes w at least 1 ambiguous base:\", df[df['ambiguous_bases'] > 0].shape[0])"
   ]
  },
  {
   "cell_type": "code",
   "execution_count": 31,
   "id": "50ee4ab0",
   "metadata": {},
   "outputs": [
    {
     "name": "stdout",
     "output_type": "stream",
     "text": [
      "           ID                 Organism  \\\n",
      "0  PV890880.1      Cyanotis nyctitropa   \n",
      "1  PV948728.1  Euonymus chloranthoides   \n",
      "2  PV962930.1      Cardamine leucantha   \n",
      "3  PQ611459.1    Polygonatum kingianum   \n",
      "4  PQ611458.1    Polygonatum kingianum   \n",
      "\n",
      "                                            Taxonomy  Year SequencingTech  \\\n",
      "0  Eukaryota; Viridiplantae; Streptophyta; Embryo...  2025       Illumina   \n",
      "1  Eukaryota; Viridiplantae; Streptophyta; Embryo...  2025       Illumina   \n",
      "2  Eukaryota; Viridiplantae; Streptophyta; Embryo...  2025        Unknown   \n",
      "3  Eukaryota; Viridiplantae; Streptophyta; Embryo...  2025       Illumina   \n",
      "4  Eukaryota; Viridiplantae; Streptophyta; Embryo...  2025       Illumina   \n",
      "\n",
      "                               LUI  \n",
      "0      PV8908801Cyanotisnyctitropa  \n",
      "1  PV9487281Euonymuschloranthoides  \n",
      "2      PV9629301Cardamineleucantha  \n",
      "3    PQ6114591Polygonatumkingianum  \n",
      "4    PQ6114581Polygonatumkingianum  \n",
      "                                        file  gene_count  ambiguous_bases  \\\n",
      "0      NC0081151Eucalyptusglobulus.gbf.fixed         126                0   \n",
      "1        NC0009251Porphyrapurpurea.gbf.fixed          49                0   \n",
      "2  NC0081161Staurastrumpunctulatum.gbf.fixed          62                0   \n",
      "3         NC0009261Guillardiatheta.gbf.fixed          41                0   \n",
      "4          NC0071441Cucumissativus.gbf.fixed         123                0   \n",
      "\n",
      "                               LUI           ID  \\\n",
      "0      NC0081151Eucalyptusglobulus  NC_008115.1   \n",
      "1        NC0009251Porphyrapurpurea  NC_000925.1   \n",
      "2  NC0081161Staurastrumpunctulatum  NC_008116.1   \n",
      "3         NC0009261Guillardiatheta  NC_000926.1   \n",
      "4          NC0071441Cucumissativus  NC_007144.1   \n",
      "\n",
      "                              Organism  \\\n",
      "0  Eucalyptus globulus subsp. globulus   \n",
      "1                    Porphyra purpurea   \n",
      "2              Staurastrum punctulatum   \n",
      "3                     Guillardia theta   \n",
      "4                      Cucumis sativus   \n",
      "\n",
      "                                            Taxonomy    Year SequencingTech  \n",
      "0  Eukaryota; Viridiplantae; Streptophyta; Embryo...  2023.0        Unknown  \n",
      "1  Eukaryota; Rhodophyta; Bangiophyceae; Bangiale...  2023.0        Unknown  \n",
      "2  Eukaryota; Viridiplantae; Streptophyta; Zygnem...  2023.0        Unknown  \n",
      "3  Eukaryota; Cryptophyceae; Pyrenomonadales; Gem...  2023.0        Unknown  \n",
      "4  Eukaryota; Viridiplantae; Streptophyta; Embryo...  2023.0        Unknown  \n"
     ]
    }
   ],
   "source": [
    "tax_data = pd.read_csv(\"data/taxonomy_info.csv\")\n",
    "#Extract LUI from file names\n",
    "df[\"LUI\"] = df[\"file\"].str.split(\".\").str[0]\n",
    "\n",
    "def get_lui(organism_name, accession_id):\n",
    "    #take the first two words of the organism name\n",
    "    org_short = \"\".join(organism_name.split()[:2])\n",
    "    lui = f\"{accession_id}{org_short}\"  # Remove space in LUI\n",
    "    return re.sub(r'[^A-Za-z0-9]', '', lui) \n",
    "\n",
    "#make the LUI of tax data match the LUI of df\n",
    "tax_data[\"LUI\"] = tax_data.apply(lambda x: get_lui(x[\"Organism\"], x[\"ID\"]), axis=1)\n",
    "print(tax_data.head())\n",
    "#merge the two dataframes on LUI\n",
    "df1 = pd.merge(df, tax_data, on=\"LUI\", how=\"left\")\n",
    "print(df1.head())\n",
    "\n",
    "#print number of "
   ]
  },
  {
   "cell_type": "code",
   "execution_count": 56,
   "id": "c6b6a240",
   "metadata": {},
   "outputs": [
    {
     "name": "stdout",
     "output_type": "stream",
     "text": [
      "Number of unique organisms: 16159\n",
      "Number of organisms with only one genome: 4325\n",
      "Selected genomes shape: (4325, 9)\n"
     ]
    },
    {
     "name": "stderr",
     "output_type": "stream",
     "text": [
      "/tmp/ipykernel_1151218/551417372.py:19: SettingWithCopyWarning: \n",
      "A value is trying to be set on a copy of a slice from a DataFrame.\n",
      "Try using .loc[row_indexer,col_indexer] = value instead\n",
      "\n",
      "See the caveats in the documentation: https://pandas.pydata.org/pandas-docs/stable/user_guide/indexing.html#returning-a-view-versus-a-copy\n",
      "  df_remaining['tech_rank'] = df_remaining['SequencingTech'].map({t: i for i, t in enumerate(tech_priority)}).fillna(len(tech_priority))\n"
     ]
    },
    {
     "name": "stdout",
     "output_type": "stream",
     "text": [
      "(16159, 9)\n"
     ]
    },
    {
     "name": "stderr",
     "output_type": "stream",
     "text": [
      "/tmp/ipykernel_1151218/551417372.py:32: FutureWarning: DataFrameGroupBy.apply operated on the grouping columns. This behavior is deprecated, and in a future version of pandas the grouping columns will be excluded from the operation. Either pass `include_groups=False` to exclude the groupings or explicitly select the grouping columns after groupby to silence this warning.\n",
      "  .apply(lambda g: g.iloc[0][['gene_count','ambiguous_bases','Year','tech_rank']].tolist()\n"
     ]
    }
   ],
   "source": [
    "# for each species, we need a decisionmaking criteria to determine which to keep. \n",
    "\n",
    "#how many unique organisms are there?\n",
    "num_unique_organisms = df1[\"Organism\"].nunique()\n",
    "print(f\"Number of unique organisms: {num_unique_organisms}\")\n",
    "\n",
    "#how many organisms appear just once in the dataset?\n",
    "num_single_organisms = df1[df1.duplicated(\"Organism\", keep=False) == False].shape[0]\n",
    "print(f\"Number of organisms with only one genome: {num_single_organisms}\")\n",
    "\n",
    "#add these rows to a new dataframe, selected_genomes \n",
    "selected_genomes = df1[df1.duplicated(\"Organism\", keep=False) == False]\n",
    "print(f\"Selected genomes shape: {selected_genomes.shape}\")\n",
    "\n",
    "#remove all the selected genomes from the original dataframe\n",
    "df_remaining = df1[df1.duplicated(\"Organism\", keep=False)]\n",
    "\n",
    "tech_priority = ['PacBio', 'Oxford Nanopore', 'Illumina', '454/Roche', 'Sanger', 'Ion Torrent']\n",
    "df_remaining['tech_rank'] = df_remaining['SequencingTech'].map({t: i for i, t in enumerate(tech_priority)}).fillna(len(tech_priority))\n",
    "\n",
    "df_remaining = df_remaining.sort_values(\n",
    "    by=['Organism', 'gene_count', 'ambiguous_bases', 'Year', 'tech_rank'],\n",
    "    ascending=[True, False, True, False, True]\n",
    ")\n",
    "\n",
    "best_per_org = df_remaining.groupby('Organism').head(1)\n",
    "ambig = (\n",
    "    df_remaining\n",
    "    .sort_values(['Organism','gene_count','ambiguous_bases','Year','tech_rank'],\n",
    "                 ascending=[True,False,True,False,True])\n",
    "    .groupby('Organism')\n",
    "    .apply(lambda g: g.iloc[0][['gene_count','ambiguous_bases','Year','tech_rank']].tolist()\n",
    "           == g.iloc[1][['gene_count','ambiguous_bases','Year','tech_rank']].tolist()\n",
    "           if len(g) > 1 else False)\n",
    ")\n",
    "sum(ambig)\n",
    "\n",
    "selected_genomes = pd.concat([selected_genomes, best_per_org]).drop(columns='tech_rank')\n",
    "\n",
    "print(selected_genomes.shape)\n"
   ]
  },
  {
   "cell_type": "code",
   "execution_count": 52,
   "id": "24633057",
   "metadata": {},
   "outputs": [
    {
     "name": "stdout",
     "output_type": "stream",
     "text": [
      "(15479, 9)\n"
     ]
    }
   ],
   "source": [
    "#filter the selected_genomes_dataframe to only include genomes that contain \"Streptophyta\" in the Organism column\n",
    "selected_genomes = selected_genomes[selected_genomes['Taxonomy'].str.contains(\"Streptophyta\", case=False, na=False)]\n",
    "print(selected_genomes.shape)\n"
   ]
  },
  {
   "cell_type": "code",
   "execution_count": 41,
   "id": "21b84eb5",
   "metadata": {},
   "outputs": [
    {
     "name": "stdout",
     "output_type": "stream",
     "text": [
      "<class 'pandas.core.frame.DataFrame'>\n",
      "Index: 16159 entries, 10159 to 46721\n",
      "Data columns (total 9 columns):\n",
      " #   Column           Non-Null Count  Dtype  \n",
      "---  ------           --------------  -----  \n",
      " 0   file             16159 non-null  object \n",
      " 1   gene_count       16159 non-null  int64  \n",
      " 2   ambiguous_bases  16159 non-null  int64  \n",
      " 3   LUI              16159 non-null  object \n",
      " 4   ID               16159 non-null  object \n",
      " 5   Organism         16159 non-null  object \n",
      " 6   Taxonomy         16159 non-null  object \n",
      " 7   Year             16159 non-null  float64\n",
      " 8   SequencingTech   16159 non-null  object \n",
      "dtypes: float64(1), int64(2), object(6)\n",
      "memory usage: 1.2+ MB\n"
     ]
    },
    {
     "data": {
      "text/html": [
       "<div>\n",
       "<style scoped>\n",
       "    .dataframe tbody tr th:only-of-type {\n",
       "        vertical-align: middle;\n",
       "    }\n",
       "\n",
       "    .dataframe tbody tr th {\n",
       "        vertical-align: top;\n",
       "    }\n",
       "\n",
       "    .dataframe thead th {\n",
       "        text-align: right;\n",
       "    }\n",
       "</style>\n",
       "<table border=\"1\" class=\"dataframe\">\n",
       "  <thead>\n",
       "    <tr style=\"text-align: right;\">\n",
       "      <th></th>\n",
       "      <th>file</th>\n",
       "      <th>gene_count</th>\n",
       "      <th>ambiguous_bases</th>\n",
       "      <th>LUI</th>\n",
       "      <th>ID</th>\n",
       "      <th>Organism</th>\n",
       "      <th>Taxonomy</th>\n",
       "      <th>Year</th>\n",
       "      <th>SequencingTech</th>\n",
       "    </tr>\n",
       "  </thead>\n",
       "  <tbody>\n",
       "    <tr>\n",
       "      <th>10159</th>\n",
       "      <td>NC0717851Hypecoumzhukanum.gbf.fixed</td>\n",
       "      <td>130</td>\n",
       "      <td>0</td>\n",
       "      <td>NC0717851Hypecoumzhukanum</td>\n",
       "      <td>NC_071785.1</td>\n",
       "      <td>Hypecoum zhukanum</td>\n",
       "      <td>Eukaryota; Viridiplantae; Streptophyta; Embryo...</td>\n",
       "      <td>2023.0</td>\n",
       "      <td>Illumina</td>\n",
       "    </tr>\n",
       "    <tr>\n",
       "      <th>10631</th>\n",
       "      <td>MF5367051Cucumismelo.gbf</td>\n",
       "      <td>127</td>\n",
       "      <td>0</td>\n",
       "      <td>MF5367051Cucumismelo</td>\n",
       "      <td>MF536705.1</td>\n",
       "      <td>Cucumis melo var. inodorus</td>\n",
       "      <td>Eukaryota; Viridiplantae; Streptophyta; Embryo...</td>\n",
       "      <td>2017.0</td>\n",
       "      <td>Unknown</td>\n",
       "    </tr>\n",
       "    <tr>\n",
       "      <th>10769</th>\n",
       "      <td>NC0776141Juniperussemiglobosa.gbf.fixed</td>\n",
       "      <td>86</td>\n",
       "      <td>0</td>\n",
       "      <td>NC0776141Juniperussemiglobosa</td>\n",
       "      <td>NC_077614.1</td>\n",
       "      <td>Juniperus semiglobosa</td>\n",
       "      <td>Eukaryota; Viridiplantae; Streptophyta; Embryo...</td>\n",
       "      <td>2023.0</td>\n",
       "      <td>Illumina</td>\n",
       "    </tr>\n",
       "    <tr>\n",
       "      <th>10771</th>\n",
       "      <td>NC0776151Juniperuspseudosabina.gbf.fixed</td>\n",
       "      <td>87</td>\n",
       "      <td>0</td>\n",
       "      <td>NC0776151Juniperuspseudosabina</td>\n",
       "      <td>NC_077615.1</td>\n",
       "      <td>Juniperus pseudosabina</td>\n",
       "      <td>Eukaryota; Viridiplantae; Streptophyta; Embryo...</td>\n",
       "      <td>2023.0</td>\n",
       "      <td>Illumina</td>\n",
       "    </tr>\n",
       "    <tr>\n",
       "      <th>11487</th>\n",
       "      <td>NC0820491Rhododendronfarrerae.gbf.fixed</td>\n",
       "      <td>117</td>\n",
       "      <td>0</td>\n",
       "      <td>NC0820491Rhododendronfarrerae</td>\n",
       "      <td>NC_082049.1</td>\n",
       "      <td>Rhododendron farrerae</td>\n",
       "      <td>Eukaryota; Viridiplantae; Streptophyta; Embryo...</td>\n",
       "      <td>2023.0</td>\n",
       "      <td>Illumina</td>\n",
       "    </tr>\n",
       "  </tbody>\n",
       "</table>\n",
       "</div>"
      ],
      "text/plain": [
       "                                           file  gene_count  ambiguous_bases  \\\n",
       "10159       NC0717851Hypecoumzhukanum.gbf.fixed         130                0   \n",
       "10631                  MF5367051Cucumismelo.gbf         127                0   \n",
       "10769   NC0776141Juniperussemiglobosa.gbf.fixed          86                0   \n",
       "10771  NC0776151Juniperuspseudosabina.gbf.fixed          87                0   \n",
       "11487   NC0820491Rhododendronfarrerae.gbf.fixed         117                0   \n",
       "\n",
       "                                  LUI           ID  \\\n",
       "10159       NC0717851Hypecoumzhukanum  NC_071785.1   \n",
       "10631            MF5367051Cucumismelo   MF536705.1   \n",
       "10769   NC0776141Juniperussemiglobosa  NC_077614.1   \n",
       "10771  NC0776151Juniperuspseudosabina  NC_077615.1   \n",
       "11487   NC0820491Rhododendronfarrerae  NC_082049.1   \n",
       "\n",
       "                         Organism  \\\n",
       "10159           Hypecoum zhukanum   \n",
       "10631  Cucumis melo var. inodorus   \n",
       "10769       Juniperus semiglobosa   \n",
       "10771      Juniperus pseudosabina   \n",
       "11487       Rhododendron farrerae   \n",
       "\n",
       "                                                Taxonomy    Year  \\\n",
       "10159  Eukaryota; Viridiplantae; Streptophyta; Embryo...  2023.0   \n",
       "10631  Eukaryota; Viridiplantae; Streptophyta; Embryo...  2017.0   \n",
       "10769  Eukaryota; Viridiplantae; Streptophyta; Embryo...  2023.0   \n",
       "10771  Eukaryota; Viridiplantae; Streptophyta; Embryo...  2023.0   \n",
       "11487  Eukaryota; Viridiplantae; Streptophyta; Embryo...  2023.0   \n",
       "\n",
       "      SequencingTech  \n",
       "10159       Illumina  \n",
       "10631        Unknown  \n",
       "10769       Illumina  \n",
       "10771       Illumina  \n",
       "11487       Illumina  "
      ]
     },
     "execution_count": 41,
     "metadata": {},
     "output_type": "execute_result"
    }
   ],
   "source": [
    "selected_genomes.info()\n",
    "selected_genomes.describe(include=\"all\")\n",
    "selected_genomes.head()"
   ]
  },
  {
   "cell_type": "code",
   "execution_count": 48,
   "id": "27d4e343",
   "metadata": {},
   "outputs": [
    {
     "name": "stdout",
     "output_type": "stream",
     "text": [
      "       gene_count  ambiguous_bases  Year\n",
      "count         0.0              0.0   0.0\n",
      "mean          NaN              NaN   NaN\n",
      "std           NaN              NaN   NaN\n",
      "min           NaN              NaN   NaN\n",
      "25%           NaN              NaN   NaN\n",
      "50%           NaN              NaN   NaN\n",
      "75%           NaN              NaN   NaN\n",
      "max           NaN              NaN   NaN\n",
      "Series([], Name: count, dtype: int64)\n"
     ]
    }
   ],
   "source": [
    "#summary stats for gene count, ambiguous bases\n",
    "summary_stats = selected_genomes[['gene_count', 'ambiguous_bases','Year']].describe()\n",
    "print(summary_stats)\n",
    "\n",
    "#summarise the counts of SequencingTech\n",
    "tech_counts = selected_genomes['SequencingTech'].value_counts()\n",
    "print(tech_counts)\n",
    "\n"
   ]
  },
  {
   "cell_type": "code",
   "execution_count": null,
   "id": "cc8b6cd7",
   "metadata": {},
   "outputs": [],
   "source": [
    "#"
   ]
  },
  {
   "cell_type": "code",
   "execution_count": null,
   "id": "7fd1dc72",
   "metadata": {},
   "outputs": [],
   "source": [
    "\n",
    "# Define directories\n",
    "gbfs_dir = \"/workdir/hdd29/chloroplast_genome_evaluation/data/gbfs\"\n",
    "output_dir = \"/workdir/hdd29/chloroplast_genome_evaluation/data/gbfs_fixed\"\n",
    "os.makedirs(output_dir, exist_ok=True)\n",
    "\n",
    "def get_gene_names_from_gbf(gbf_file):\n",
    "    \"\"\"\n",
    "    Extract gene names from a GenBank file.\n",
    "    \"\"\"\n",
    "    genes = []\n",
    "    for record in SeqIO.parse(gbf_file, \"genbank\"):\n",
    "        for feature in record.features:\n",
    "            if feature.type == \"gene\":\n",
    "                gene_name = feature.qualifiers.get(\"gene\", [\"\"])[0].strip()\n",
    "                if gene_name:  # skip empty or malformed entries\n",
    "                    genes.append(gene_name)\n",
    "    return genes\n",
    "\n",
    "# List all GBF files\n",
    "gbf_files = [f for f in os.listdir(gbfs_dir) if f.endswith(\".gbf\") or f.endswith(\".gbf.fixed\")]\n",
    "print(f\"Found {len(gbf_files)} GenBank files in {gbfs_dir}\")\n",
    "\n",
    "# Collect all gene presence per file\n",
    "all_gene_sets = {}\n",
    "all_genes = set()\n",
    "\n",
    "for f in tqdm(gbf_files):  # Process a subset for demonstration\n",
    "    gbf_path = os.path.join(gbfs_dir, f)\n",
    "    try:\n",
    "        gene_list = get_gene_names_from_gbf(gbf_path)\n",
    "        gene_set = set(gene_list)\n",
    "        all_gene_sets[f] = gene_set\n",
    "        all_genes.update(gene_set)\n",
    "    except Exception as e:\n",
    "        print(f\"Error processing {f}: {e}\")\n",
    "\n",
    "# Sort gene list for consistent column order\n",
    "sorted_genes = sorted(all_genes)\n",
    "\n",
    "# Create presence/absence DataFrame\n",
    "presence_absence_rows = []\n",
    "for sample_name, gene_set in tqdm(all_gene_sets.items()):\n",
    "    row = {\"sample\": sample_name}\n",
    "    for gene in sorted_genes:\n",
    "        row[gene] = int(gene in gene_set)\n",
    "    presence_absence_rows.append(row)\n",
    "\n",
    "df_presence_absence = pd.DataFrame(presence_absence_rows)\n",
    "df_presence_absence = df_presence_absence.set_index(\"sample\")\n",
    "\n",
    "# (Optional) Save to CSV\n",
    "df_presence_absence.to_csv(\"chloroplast_gene_presence_matrix.csv\")\n",
    "\n",
    "# Print summary\n",
    "print(\"\\nPresence/absence matrix shape:\", df_presence_absence.shape)\n",
    "print(df_presence_absence.head())\n"
   ]
  },
  {
   "cell_type": "code",
   "execution_count": null,
   "id": "60cb8a74",
   "metadata": {},
   "outputs": [],
   "source": [
    "# Use your presence/absence DataFrame\n",
    "df = df_presence_absence.copy()\n",
    "\n",
    "# Move index into a column so we can access sample names explicitly\n",
    "df = df.reset_index().rename(columns={\"index\": \"sample\"})\n",
    "\n",
    "# Sort genes (columns) by prevalence (excluding the sample name column)\n",
    "df_sorted_genes = df.drop(columns=\"sample\").sum().sort_values(ascending=False).index.tolist()\n",
    "df = df[[\"sample\"] + df_sorted_genes]\n",
    "\n",
    "# Sort samples by total gene count\n",
    "df[\"gene_count\"] = df.iloc[:, 1:].sum(axis=1)\n",
    "df = df.sort_values(\"gene_count\", ascending=False)\n",
    "\n",
    "# Drop gene_count and set sample as index for plotting\n",
    "df_sorted = df.drop(columns=\"gene_count\").set_index(\"sample\")\n",
    "\n",
    "# Create stacked area plot\n",
    "fig, ax = plt.subplots(figsize=(12, 6))\n",
    "df_sorted.cumsum().plot.area(ax=ax, linewidth=0)\n",
    "\n",
    "ax.set_xlabel(\"Sample\")\n",
    "ax.set_ylabel(\"Gene Count\")\n",
    "ax.set_title(\"Chloroplast Gene Presence per Sample\")\n",
    "plt.tight_layout()\n",
    "plt.show()\n",
    "\n"
   ]
  },
  {
   "cell_type": "code",
   "execution_count": 14,
   "id": "62043358",
   "metadata": {},
   "outputs": [
    {
     "data": {
      "image/png": "[encoded data removed]",
      "text/plain": [
       "<Figure size 1200x400 with 1 Axes>"
      ]
     },
     "metadata": {},
     "output_type": "display_data"
    }
   ],
   "source": [
    "gene_counts = df_presence_absence.sum(axis=1)\n",
    "\n",
    "# Plot\n",
    "fig, ax = plt.subplots(figsize=(12, 4))\n",
    "gene_counts.plot(kind=\"line\", marker='o', ax=ax)\n",
    "\n",
    "ax.set_xlabel(\"Sample\")\n",
    "ax.set_ylabel(\"Number of Genes Present\")\n",
    "ax.set_title(\"Total Genes per Chloroplast Genome\")\n",
    "ax.grid(True)\n",
    "plt.tight_layout()\n",
    "plt.show()\n"
   ]
  },
  {
   "cell_type": "code",
   "execution_count": null,
   "id": "87710e30",
   "metadata": {},
   "outputs": [],
   "source": [
    "def count_ambiguous_bases(seq_record):\n",
    "    \"\"\"\n",
    "    Count ambiguous bases (N's) in a sequence record.\n",
    "    \n",
    "    Parameters:\n",
    "        seq_record (SeqRecord): A Biopython SeqRecord object.\n",
    "        \n",
    "    Returns:\n",
    "        int: Number of ambiguous bases in the sequence.\n",
    "    \"\"\"\n",
    "    return seq_record.seq.count('N')"
   ]
  },
  {
   "cell_type": "code",
   "execution_count": null,
   "id": "bcc51b69",
   "metadata": {},
   "outputs": [],
   "source": [
    "# for each species, we need a decisionmaking criteria to determine which to keep. \n",
    "# remove the genomes not 50,000 < genome size < 300,000\n",
    "\n",
    "# keep the species with the most genes\n",
    "\n",
    "# look at the genome and keep the one with the fewest ambiguous bases (N's)\n",
    "\n",
    "# how many conflicts remain?"
   ]
  }
 ],
 "metadata": {
  "kernelspec": {
   "display_name": "default",
   "language": "python",
   "name": "python3"
  },
  "language_info": {
   "codemirror_mode": {
    "name": "ipython",
    "version": 3
   },
   "file_extension": ".py",
   "mimetype": "text/x-python",
   "name": "python",
   "nbconvert_exporter": "python",
   "pygments_lexer": "ipython3",
   "version": "3.13.5"
  }
 },
 "nbformat": 4,
 "nbformat_minor": 5
}
