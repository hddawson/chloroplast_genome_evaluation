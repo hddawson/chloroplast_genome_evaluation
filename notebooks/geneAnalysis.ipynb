{
 "cells": [
  {
   "cell_type": "code",
   "execution_count": 1,
   "id": "a6f6e88e",
   "metadata": {},
   "outputs": [],
   "source": [
    "#Now, we need to keep only species level genomes. \n",
    "import pandas as pd\n",
    "import sys\n",
    "import os\n",
    "import matplotlib.pyplot as plt\n",
    "import re \n",
    "from tqdm import tqdm\n",
    "import seaborn as sns"
   ]
  },
  {
   "cell_type": "code",
   "execution_count": 2,
   "id": "d98671ee",
   "metadata": {},
   "outputs": [],
   "source": [
    "genome_metadata = pd.read_csv('data/taxonomy_info.csv',header=0)\n",
    "\n",
    "def clean_species_name(name):\n",
    "    \"\"\"\n",
    "    Remove taxonomic qualifiers and return the first two valid words.\n",
    "    \"\"\"\n",
    "    specifiers = {\"x.\", \"sp.\", \"var.\", \"subsp.\", \"f.\", \"spp.\", \"cf.\", \"aff.\", \"ex\"}\n",
    "    words = name.split()\n",
    "    cleaned_words = [w for w in words if w.lower().strip(\".\") not in specifiers]\n",
    "    return \" \".join(cleaned_words[:2]) if len(cleaned_words) >= 2 else \" \".join(cleaned_words)\n",
    "\n",
    "def get_lui_and_species(organism_name, accession_id):\n",
    "    species = clean_species_name(organism_name)\n",
    "    #take the first two words of the organism name\n",
    "    org_short = \"\".join(organism_name.split()[:2])\n",
    "    lui = f\"{accession_id}_{org_short}\"  # Remove space in LUI\n",
    "    return lui, species\n",
    "\n",
    "def alphanum_only(s):\n",
    "    return re.sub(r'[^A-Za-z0-9]', '', s)\n",
    "\n",
    "# Add LUI and species columns\n",
    "genome_metadata[\"LUI\"], genome_metadata[\"Species\"] = zip(*genome_metadata.apply(\n",
    "    lambda row: get_lui_and_species(row[\"Organism\"], row[\"ID\"]),\n",
    "    axis=1\n",
    "))\n",
    "genome_metadata[\"LUI\"] = genome_metadata[\"LUI\"].apply(alphanum_only)\n",
    "genome_metadata[\"Species\"] = genome_metadata[\"Species\"].apply(alphanum_only)"
   ]
  },
  {
   "cell_type": "code",
   "execution_count": null,
   "id": "5ff446a5",
   "metadata": {},
   "outputs": [],
   "source": []
  }
 ],
 "metadata": {
  "kernelspec": {
   "display_name": "default",
   "language": "python",
   "name": "python3"
  },
  "language_info": {
   "codemirror_mode": {
    "name": "ipython",
    "version": 3
   },
   "file_extension": ".py",
   "mimetype": "text/x-python",
   "name": "python",
   "nbconvert_exporter": "python",
   "pygments_lexer": "ipython3",
   "version": "3.13.5"
  }
 },
 "nbformat": 4,
 "nbformat_minor": 5
}
